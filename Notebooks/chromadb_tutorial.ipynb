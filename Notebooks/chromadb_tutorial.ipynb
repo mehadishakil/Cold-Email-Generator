{
  "nbformat": 4,
  "nbformat_minor": 0,
  "metadata": {
    "colab": {
      "provenance": []
    },
    "kernelspec": {
      "name": "python3",
      "display_name": "Python 3"
    },
    "language_info": {
      "name": "python"
    }
  },
  "cells": [
    {
      "cell_type": "code",
      "execution_count": null,
      "metadata": {
        "id": "mlD9bqk8yBhL"
      },
      "outputs": [],
      "source": []
    }
  ]
}